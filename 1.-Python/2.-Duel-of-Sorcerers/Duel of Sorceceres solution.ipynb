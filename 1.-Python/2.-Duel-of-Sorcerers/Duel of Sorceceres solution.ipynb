{
  "nbformat": 4,
  "nbformat_minor": 0,
  "metadata": {
    "colab": {
      "name": "Untitled0.ipynb",
      "provenance": []
    },
    "kernelspec": {
      "name": "python3",
      "display_name": "Python 3"
    }
  },
  "cells": [
    {
      "cell_type": "code",
      "metadata": {
        "id": "L5ZaO7U8JTS4",
        "colab": {
          "base_uri": "https://localhost:8080/"
        },
        "outputId": "85cb228c-4701-44a0-bc09-f07ce50d0188"
      },
      "source": [
        "gandalf = [10, 11, 13, 30, 22, 11, 10, 33, 22, 22]\r\n",
        "saruman = [23, 66, 12, 43, 12, 10, 44, 23, 12, 17]\r\n",
        "spell = 10\r\n",
        "\r\n",
        "gandalf_wins = 0\r\n",
        "saruman_wins = 0\r\n",
        "tie = 0\r\n",
        "\r\n",
        "\r\n",
        "for spells in zip(saruman, gandalf):\r\n",
        "    \r\n",
        "    gandalf_spell = spells[0]\r\n",
        "    saruman_spell = spells[1]\r\n",
        "\r\n",
        "    if gandalf_spell>saruman_spell:\r\n",
        "        gandalf_wins += 1\r\n",
        "    elif saruman_spell>gandalf_spell:\r\n",
        "        saruman_wins += 1\r\n",
        "    elif saruman_spell >= gandalf_spell:\r\n",
        "        gandalf_wins = 0,\r\n",
        "        saruman_wins = 0\r\n",
        "print(\"Total gandalf wins:\", gandalf_wins)\r\n",
        "print(\"Total saruman wins:\", saruman_wins)\r\n",
        "print(\"Tie:\", tie)\r\n",
        "\r\n"
      ],
      "execution_count": 8,
      "outputs": [
        {
          "output_type": "stream",
          "text": [
            "Total gandalf wins: 4\n",
            "Total saruman wins: 6\n",
            "Tie: 0\n"
          ],
          "name": "stdout"
        }
      ]
    }
  ]
}