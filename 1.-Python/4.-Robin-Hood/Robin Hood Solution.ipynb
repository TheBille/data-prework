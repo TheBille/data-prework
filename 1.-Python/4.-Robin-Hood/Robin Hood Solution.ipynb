{
  "nbformat": 4,
  "nbformat_minor": 0,
  "metadata": {
    "colab": {
      "name": "Untitled0.ipynb",
      "provenance": []
    },
    "kernelspec": {
      "name": "python3",
      "display_name": "Python 3"
    }
  },
  "cells": [
    {
      "cell_type": "code",
      "metadata": {
        "id": "L5ZaO7U8JTS4",
        "colab": {
          "base_uri": "https://localhost:8080/"
        },
        "outputId": "8dcb9baa-b0c5-4e6a-ba95-fc1406c61ade"
      },
      "source": [
        "#section 2\r\n",
        "points = [(4, 5), (-0, 2), (4, 7), (1, -3), (3, -2), (4, 5), (3, 2), (5, 7), (-5, 7), (2, 2), (-4, 5), (0, -2),\r\n",
        "          (-4, 7), (-1, 3), (-3, 2), (-4, -5), (-3, 2), (5, 7), (5, 7), (2, 2), (9, 9), (-8, -9)]\r\n",
        "## section 1\r\n",
        "doubleshot = []\r\n",
        "for i in range(len(points)):\r\n",
        "    if points[i] in points[i+1:]:\r\n",
        "        doubleshot.append(points[i])\r\n",
        "print(set(doubleshot))\r\n",
        "\r\n",
        "#section 2\r\n",
        "quadrant1 = 0\r\n",
        "quadrant2 = 0\r\n",
        "quadrant3 = 0\r\n",
        "quadrant4 = 0\r\n",
        "count = 0\r\n",
        "for x in points:\r\n",
        "    if x[0] > 0 and x[1] > 0:\r\n",
        "        quadrant1 += 1\r\n",
        "    elif x[0] < 0 and x[1] > 0:\r\n",
        "        quadrant2 += 1\r\n",
        "    elif x[0] < 0 and x[1] < 0:\r\n",
        "        quadrant3 += 1\r\n",
        "    elif x[0] > 0 and x[1] < 0:\r\n",
        "        quadrant4 += 1\r\n",
        "print(quadrant1, \"arrows will be in the first quadrant\",quadrant2, \"arrows will be in the second quadrant\",\r\n",
        "      quadrant3, \"arrows will be in the third quadrant and\", quadrant4, \"will be in the fourth quadrant\")\r\n",
        "\r\n",
        "#section 3\r\n",
        "##def nutzt man um eine Funktion zu definieren\r\n",
        "#distance ist die die Formel d= die Wuzel aus (x2-x1)^2 (y2-y1)^2\r\n",
        "import math\r\n",
        "def distance(x,y):\r\n",
        "    distance = math.sqrt((x**2)+(y**2))\r\n",
        "    return distance\r\n",
        "\r\n",
        "\r\n",
        "closest_point = (float('inf'),float('inf'))\r\n",
        "closest_point_distance = 1000\r\n",
        "\r\n",
        "\r\n",
        "for x in points:\r\n",
        "    if distance(x[0],x[1]) < closest_point_distance:\r\n",
        "        closest_point_distance = distance(x[0],x[1])\r\n",
        "        closest_point = x\r\n",
        "\r\n",
        "print(closest_point, closest_point_distance)\r\n",
        "\r\n",
        "#section 4\r\n",
        "radius = 9\r\n",
        "\r\n",
        "wont_hit_target = []\r\n",
        "for x in points:\r\n",
        "    if distance(x[0],x[1]) >= 9:\r\n",
        "        wont_hit_target.append(x)\r\n",
        "        \r\n",
        "failed_arrows = int(len(wont_hit_target))\r\n",
        "\r\n",
        "print (failed_arrows, \"arrows won't hit the target\")\r\n",
        "\r\n"
      ],
      "execution_count": 10,
      "outputs": [
        {
          "output_type": "stream",
          "text": [
            "{(4, 5), (5, 7), (-3, 2), (2, 2)}\n",
            "10 arrows will be in the first quadrant 6 arrows will be in the second quadrant 2 arrows will be in the third quadrant and 2 will be in the fourth quadrant\n",
            "(0, 2) 2.0\n",
            "2 arrows won't hit the target\n"
          ],
          "name": "stdout"
        }
      ]
    }
  ]
}