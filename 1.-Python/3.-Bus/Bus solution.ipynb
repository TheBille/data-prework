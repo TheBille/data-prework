{
  "nbformat": 4,
  "nbformat_minor": 0,
  "metadata": {
    "colab": {
      "name": "Untitled0.ipynb",
      "provenance": []
    },
    "kernelspec": {
      "name": "python3",
      "display_name": "Python 3"
    }
  },
  "cells": [
    {
      "cell_type": "code",
      "metadata": {
        "id": "L5ZaO7U8JTS4",
        "colab": {
          "base_uri": "https://localhost:8080/"
        },
        "outputId": "08dca5a5-7b32-4a37-e843-6a746dc46cf3"
      },
      "source": [
        "stops = [(10, 0), (4, 1), (3, 5), (3, 4), (5, 1), (1, 5), (5, 8), (4, 6), (2, 3)]\r\n",
        "movement = []\r\n",
        "occupation = []\r\n",
        "total_stops = len(stops)\r\n",
        "print(\"The total number of stops is\", total_stops)\r\n",
        "for up,down in stops:\r\n",
        "    movement.append(up - down)\r\n",
        "\r\n",
        "for i in range(total_stops):\r\n",
        "    occupation.append(sum(movement[0:i+1]))\r\n",
        "    \r\n",
        "print(\"The maximum occupation is\", max(occupation))\r\n",
        "print(\"The average occupation is\", round((sum(occupation)/total_stops), 2))\r\n",
        "import statistics\r\n",
        "print(\"The standard deviation of the occupation is\", round(statistics.stdev(occupation), 2))\r\n"
      ],
      "execution_count": 9,
      "outputs": [
        {
          "output_type": "stream",
          "text": [
            "The total number of bus stops is 9\n",
            "The maximum occupation in the bus is 14\n",
            "The average occupation is 9.33\n",
            "The standard deviation of the occupation is 3.39\n"
          ],
          "name": "stdout"
        }
      ]
    }
  ]
}