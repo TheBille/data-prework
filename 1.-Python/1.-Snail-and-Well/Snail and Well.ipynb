{
  "nbformat": 4,
  "nbformat_minor": 0,
  "metadata": {
    "colab": {
      "name": "Untitled0.ipynb",
      "provenance": []
    },
    "kernelspec": {
      "name": "python3",
      "display_name": "Python 3"
    }
  },
  "cells": [
    {
      "cell_type": "code",
      "metadata": {
        "colab": {
          "base_uri": "https://localhost:8080/"
        },
        "id": "L5ZaO7U8JTS4",
        "outputId": "38a13de5-901c-47f4-ef7b-b33a9059520e"
      },
      "source": [
        "well_height = 125\r\n",
        "daily_distance = 30\r\n",
        "nightly_distance = -20\r\n",
        "snail_is_in_the_well = True\r\n",
        "days = 0\r\n",
        "total_distance = 0\r\n",
        "distance_24hours = daily_distance + nightly_distance\r\n",
        "\r\n",
        "while snail_is_in_the_well:\r\n",
        "    total_distance+= distance_24hours\r\n",
        "    days += 1\r\n",
        "    if total_distance>= well_height:\r\n",
        "       snail_is_in_the_well = False\r\n",
        "print(\"The snail needs\", days, \"days to escape.\")\r\n"
      ],
      "execution_count": 1,
      "outputs": [
        {
          "output_type": "stream",
          "text": [
            "The snail needs 13 days to escape.\n"
          ],
          "name": "stdout"
        }
      ]
    }
  ]
}